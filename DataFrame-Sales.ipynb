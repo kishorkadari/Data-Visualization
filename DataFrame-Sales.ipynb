{
 "cells": [
  {
   "cell_type": "code",
   "execution_count": null,
   "id": "7e9e0467",
   "metadata": {},
   "outputs": [],
   "source": [
    "import pandas as pd\n",
    "import numpy as np\n",
    "import matplotlib.pyplot as plt"
   ]
  },
  {
   "cell_type": "code",
   "execution_count": 2,
   "id": "6902b637",
   "metadata": {},
   "outputs": [],
   "source": [
    "salesMen = ['ahmed','omar','ali','ziad','salwa','lila']\n",
    "Mobile_Sales = [2540,1370,1320,2000,2100,2150]\n",
    "TV_Sales = [2200,1900,2150,1850,1770,2000]"
   ]
  },
  {
   "cell_type": "code",
   "execution_count": 5,
   "id": "882f9d80",
   "metadata": {},
   "outputs": [],
   "source": [
    "df = pd.DataFrame()\n",
    "df['Name'] = salesMen\n",
    "df['Mobile_Sales'] = Mobile_Sales\n",
    "df['TV_Sales'] = TV_Sales"
   ]
  },
  {
   "cell_type": "code",
   "execution_count": 6,
   "id": "8d86b55d",
   "metadata": {},
   "outputs": [],
   "source": [
    "df.set_index(\"Name\", drop=True, inplace=True)"
   ]
  },
  {
   "cell_type": "code",
   "execution_count": 7,
   "id": "7a7c7048",
   "metadata": {},
   "outputs": [
    {
     "data": {
      "text/html": [
       "<div>\n",
       "<style scoped>\n",
       "    .dataframe tbody tr th:only-of-type {\n",
       "        vertical-align: middle;\n",
       "    }\n",
       "\n",
       "    .dataframe tbody tr th {\n",
       "        vertical-align: top;\n",
       "    }\n",
       "\n",
       "    .dataframe thead th {\n",
       "        text-align: right;\n",
       "    }\n",
       "</style>\n",
       "<table border=\"1\" class=\"dataframe\">\n",
       "  <thead>\n",
       "    <tr style=\"text-align: right;\">\n",
       "      <th></th>\n",
       "      <th>Mobile_Sales</th>\n",
       "      <th>TV_Sales</th>\n",
       "    </tr>\n",
       "    <tr>\n",
       "      <th>Name</th>\n",
       "      <th></th>\n",
       "      <th></th>\n",
       "    </tr>\n",
       "  </thead>\n",
       "  <tbody>\n",
       "    <tr>\n",
       "      <th>ahmed</th>\n",
       "      <td>2540</td>\n",
       "      <td>2200</td>\n",
       "    </tr>\n",
       "    <tr>\n",
       "      <th>omar</th>\n",
       "      <td>1370</td>\n",
       "      <td>1900</td>\n",
       "    </tr>\n",
       "    <tr>\n",
       "      <th>ali</th>\n",
       "      <td>1320</td>\n",
       "      <td>2150</td>\n",
       "    </tr>\n",
       "    <tr>\n",
       "      <th>ziad</th>\n",
       "      <td>2000</td>\n",
       "      <td>1850</td>\n",
       "    </tr>\n",
       "    <tr>\n",
       "      <th>salwa</th>\n",
       "      <td>2100</td>\n",
       "      <td>1770</td>\n",
       "    </tr>\n",
       "    <tr>\n",
       "      <th>lila</th>\n",
       "      <td>2150</td>\n",
       "      <td>2000</td>\n",
       "    </tr>\n",
       "  </tbody>\n",
       "</table>\n",
       "</div>"
      ],
      "text/plain": [
       "       Mobile_Sales  TV_Sales\n",
       "Name                         \n",
       "ahmed          2540      2200\n",
       "omar           1370      1900\n",
       "ali            1320      2150\n",
       "ziad           2000      1850\n",
       "salwa          2100      1770\n",
       "lila           2150      2000"
      ]
     },
     "execution_count": 7,
     "metadata": {},
     "output_type": "execute_result"
    }
   ],
   "source": [
    "df"
   ]
  },
  {
   "cell_type": "code",
   "execution_count": 12,
   "id": "575a3344",
   "metadata": {},
   "outputs": [
    {
     "data": {
      "text/plain": [
       "Text(0.5, 1.0, 'Sales volume for two salesmen in \\\\Jan and April2017')"
      ]
     },
     "execution_count": 12,
     "metadata": {},
     "output_type": "execute_result"
    },
    {
     "data": {
      "image/png": "[encoded data removed]",
      "text/plain": [
       "<Figure size 720x360 with 1 Axes>"
      ]
     },
     "metadata": {
      "needs_background": "light"
     },
     "output_type": "display_data"
    }
   ],
   "source": [
    "df.plot.bar(figsize=(10,5), rot = 0).legend(bbox_to_anchor=(1.1, 1)) \n",
    "plt.xlabel('Salesmen') \n",
    "plt.ylabel('Sales')\n",
    "plt.title('Sales volume for two salesmen in \\Jan and April2017')"
   ]
  },
  {
   "cell_type": "code",
   "execution_count": null,
   "id": "699e1247",
   "metadata": {},
   "outputs": [],
   "source": []
  }
 ],
 "metadata": {
  "kernelspec": {
   "display_name": "Python 3 (ipykernel)",
   "language": "python",
   "name": "python3"
  },
  "language_info": {
   "codemirror_mode": {
    "name": "ipython",
    "version": 3
   },
   "file_extension": ".py",
   "mimetype": "text/x-python",
   "name": "python",
   "nbconvert_exporter": "python",
   "pygments_lexer": "ipython3",
   "version": "3.9.7"
  }
 },
 "nbformat": 4,
 "nbformat_minor": 5
}
