{
 "cells": [
  {
   "cell_type": "code",
   "execution_count": 5,
   "id": "ee6f67be",
   "metadata": {},
   "outputs": [
    {
     "data": {
      "text/plain": [
       "first     1\n",
       "second    2\n",
       "third     3\n",
       "dtype: int64"
      ]
     },
     "execution_count": 5,
     "metadata": {},
     "output_type": "execute_result"
    }
   ],
   "source": [
    "import pandas as pd\n",
    "pd.Series(data=[1,2,3], index = ['first','second','third'])\n"
   ]
  },
  {
   "cell_type": "code",
   "execution_count": 12,
   "id": "a8206df0",
   "metadata": {},
   "outputs": [
    {
     "data": {
      "text/plain": [
       "randir      99999999\n",
       "deepika    888888888\n",
       "maya       666666666\n",
       "dtype: int64"
      ]
     },
     "execution_count": 12,
     "metadata": {},
     "output_type": "execute_result"
    }
   ],
   "source": [
    "phonebook = {         \n",
    "    'randir' :   99999999,\n",
    "    'deepika' :  888888888,\n",
    "    'maya'    :  666666666,\n",
    "    }\n",
    "pd.Series(phonebook)        #dictionary automatically converts into series"
   ]
  },
  {
   "cell_type": "markdown",
   "id": "0ed86f79",
   "metadata": {},
   "source": [
    "# Add Two Series "
   ]
  },
  {
   "cell_type": "code",
   "execution_count": null,
   "id": "d3cafd93",
   "metadata": {},
   "outputs": [],
   "source": []
  }
 ],
 "metadata": {
  "kernelspec": {
   "display_name": "Python 3 (ipykernel)",
   "language": "python",
   "name": "python3"
  },
  "language_info": {
   "codemirror_mode": {
    "name": "ipython",
    "version": 3
   },
   "file_extension": ".py",
   "mimetype": "text/x-python",
   "name": "python",
   "nbconvert_exporter": "python",
   "pygments_lexer": "ipython3",
   "version": "3.9.7"
  }
 },
 "nbformat": 4,
 "nbformat_minor": 5
}
